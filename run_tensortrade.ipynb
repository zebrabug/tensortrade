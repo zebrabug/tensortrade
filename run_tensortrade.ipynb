{
  "nbformat": 4,
  "nbformat_minor": 0,
  "metadata": {
    "colab": {
      "name": "run_tensortrade.ipynb",
      "provenance": []
    },
    "kernelspec": {
      "name": "python3",
      "display_name": "Python 3"
    },
    "accelerator": "GPU"
  },
  "cells": [
    {
      "cell_type": "code",
      "metadata": {
        "id": "BaeKRWdQFVpo"
      },
      "source": [
        "!python3 -m pip install git+https://github.com/zebrabug/tensortrade.git"
      ],
      "execution_count": null,
      "outputs": []
    },
    {
      "cell_type": "code",
      "metadata": {
        "id": "BxMz_wZCGVk8"
      },
      "source": [
        "!git clone https://github.com/zebrabug/tensortrade.git"
      ],
      "execution_count": null,
      "outputs": []
    },
    {
      "cell_type": "code",
      "metadata": {
        "id": "ozp_8QW-G3DP"
      },
      "source": [
        "!cd tensortrade/examples"
      ],
      "execution_count": 3,
      "outputs": []
    },
    {
      "cell_type": "code",
      "metadata": {
        "colab": {
          "base_uri": "https://localhost:8080/"
        },
        "id": "u0HzzOFOHAQi",
        "outputId": "890dc264-b9d1-4e6f-aa76-17eeb93d37ad"
      },
      "source": [
        "!pip install ta"
      ],
      "execution_count": 4,
      "outputs": [
        {
          "output_type": "stream",
          "text": [
            "Requirement already satisfied: ta in /usr/local/lib/python3.7/dist-packages (0.7.0)\n",
            "Requirement already satisfied: numpy in /usr/local/lib/python3.7/dist-packages (from ta) (1.19.5)\n",
            "Requirement already satisfied: pandas in /usr/local/lib/python3.7/dist-packages (from ta) (1.1.5)\n",
            "Requirement already satisfied: python-dateutil>=2.7.3 in /usr/local/lib/python3.7/dist-packages (from pandas->ta) (2.8.1)\n",
            "Requirement already satisfied: pytz>=2017.2 in /usr/local/lib/python3.7/dist-packages (from pandas->ta) (2018.9)\n",
            "Requirement already satisfied: six>=1.5 in /usr/local/lib/python3.7/dist-packages (from python-dateutil>=2.7.3->pandas->ta) (1.15.0)\n"
          ],
          "name": "stdout"
        }
      ]
    },
    {
      "cell_type": "code",
      "metadata": {
        "colab": {
          "base_uri": "https://localhost:8080/",
          "height": 390
        },
        "id": "cUwTfHPxFwAi",
        "outputId": "f597c8a3-a56b-4f53-dbf3-c179f9b6edd1"
      },
      "source": [
        "import ta\n",
        "\n",
        "import pandas as pd\n",
        "\n",
        "from tensortrade.feed.core import Stream, DataFeed, NameSpace\n",
        "from tensortrade.oms.exchanges import Exchange, ExchangeOptions\n",
        "from tensortrade.oms.services.execution.simulated import execute_order\n",
        "from tensortrade.oms.instruments import USD, BTC, RUR\n",
        "from tensortrade.oms.wallets import Wallet, Portfolio\n",
        "import tensortrade.env.default as default\n",
        "from tensortrade.agents import DQNAgent\n",
        "import matplotlib.pyplot as plt\n",
        "from finrl.model.models import DRLAgent\n",
        "\n",
        "df = pd.read_pickle('./data/OHLC_deals_df.pkl')\n",
        "\n",
        "\n",
        "agent = None\n",
        "for i in range(0,130000,3000):\n",
        "    df_USD = df.iloc[i:i+3000,:]\n",
        "    df_USD.rename(columns = {\n",
        "        'Time':'date',\n",
        "        'Open':'open',\n",
        "        'Close':'close',\n",
        "        'Low':'low',\n",
        "        'High':'high',\n",
        "        'Volume':'volume'\n",
        "    }, inplace = True)\n",
        "\n",
        "    df_USD = df_USD[df_USD['close'].notnull()]\n",
        "    dataset = ta.add_all_ta_features(df_USD, 'open', 'high', 'low', 'close', 'volume', fillna=True)\n",
        "\n",
        "    price_history = dataset[['date', 'open', 'high', 'low', 'close', 'volume']]  # chart data\n",
        "    dataset.drop(columns=['date', 'open', 'high', 'low', 'close', 'volume'], inplace=True)\n",
        "\n",
        "    micex = Exchange(\"MICEX\", \n",
        "                    service=execute_order, \n",
        "                    options=ExchangeOptions(commission = 0.0003, #0.003,\n",
        "                                            min_trade_size = 1e-6,\n",
        "                                            max_trade_size = 1e6,\n",
        "                                            min_trade_price = 1e-8,\n",
        "                                            max_trade_price= 1e8,\n",
        "                                            is_live=False)  )(\n",
        "                                                Stream.source(price_history['close'].tolist(), dtype=\"float\").rename(\"RUR-USD\"))\n",
        "\n",
        "    portfolio = Portfolio(RUR, [\n",
        "        Wallet(micex, 0 * USD),\n",
        "        Wallet(micex, 73000 * RUR),\n",
        "    ])\n",
        "\n",
        "    with NameSpace(\"MICEX\"):\n",
        "        streams = [Stream.source(dataset[c].tolist(), dtype=\"float\").rename(c) for c in dataset.columns]\n",
        "\n",
        "    feed = DataFeed(streams)\n",
        "    feed.next()\n",
        "\n",
        "    env = default.create(\n",
        "        portfolio=portfolio,\n",
        "        action_scheme=\"simple\",#\"managed-risk\", simpleBuy\n",
        "        reward_scheme=\"simple\",#\"risk-adjusted\",\n",
        "        feed=feed,\n",
        "        renderer=\"screen-log\",  # ScreenLogger used with default settings\n",
        "        window_size=20\n",
        "    )\n",
        "\n",
        "    if agent is None:\n",
        "        agent = DQNAgent(env)\n",
        "    else:\n",
        "        agent = DQNAgent(env,policy_network=agent.policy_network)\n",
        "    agent.train(n_episodes=1, n_steps=720, render_interval=10)\n",
        "\n",
        "    # #if agent is None:\n",
        "    # agent = DRLAgent(env = env)\n",
        "    # PPO_PARAMS = {\n",
        "    #     \"n_steps\": 1440,\n",
        "    #     \"ent_coef\": 0.01,\n",
        "    #     \"learning_rate\": 0.00025,\n",
        "    #     \"batch_size\": 128,\n",
        "    # }\n",
        "    # model_ppo = agent.get_model(\"ppo\",model_kwargs = PPO_PARAMS)\n",
        "\n",
        "    # trained_ppo = agent.train_model(model=model_ppo, \n",
        "    #                             tb_log_name='ppo',\n",
        "    #                             total_timesteps=50000)\n",
        "    \n",
        "    pd.DataFrame(portfolio.performance).transpose()[['net_worth']].to_pickle('./tmp/result3_'+str(i)+'.pkl')"
      ],
      "execution_count": 5,
      "outputs": [
        {
          "output_type": "error",
          "ename": "ImportError",
          "evalue": "ignored",
          "traceback": [
            "\u001b[0;31m---------------------------------------------------------------------------\u001b[0m",
            "\u001b[0;31mImportError\u001b[0m                               Traceback (most recent call last)",
            "\u001b[0;32m<ipython-input-5-d89f50c0c02b>\u001b[0m in \u001b[0;36m<module>\u001b[0;34m\u001b[0m\n\u001b[1;32m      6\u001b[0m \u001b[0;32mfrom\u001b[0m \u001b[0mtensortrade\u001b[0m\u001b[0;34m.\u001b[0m\u001b[0moms\u001b[0m\u001b[0;34m.\u001b[0m\u001b[0mexchanges\u001b[0m \u001b[0;32mimport\u001b[0m \u001b[0mExchange\u001b[0m\u001b[0;34m,\u001b[0m \u001b[0mExchangeOptions\u001b[0m\u001b[0;34m\u001b[0m\u001b[0;34m\u001b[0m\u001b[0m\n\u001b[1;32m      7\u001b[0m \u001b[0;32mfrom\u001b[0m \u001b[0mtensortrade\u001b[0m\u001b[0;34m.\u001b[0m\u001b[0moms\u001b[0m\u001b[0;34m.\u001b[0m\u001b[0mservices\u001b[0m\u001b[0;34m.\u001b[0m\u001b[0mexecution\u001b[0m\u001b[0;34m.\u001b[0m\u001b[0msimulated\u001b[0m \u001b[0;32mimport\u001b[0m \u001b[0mexecute_order\u001b[0m\u001b[0;34m\u001b[0m\u001b[0;34m\u001b[0m\u001b[0m\n\u001b[0;32m----> 8\u001b[0;31m \u001b[0;32mfrom\u001b[0m \u001b[0mtensortrade\u001b[0m\u001b[0;34m.\u001b[0m\u001b[0moms\u001b[0m\u001b[0;34m.\u001b[0m\u001b[0minstruments\u001b[0m \u001b[0;32mimport\u001b[0m \u001b[0mUSD\u001b[0m\u001b[0;34m,\u001b[0m \u001b[0mBTC\u001b[0m\u001b[0;34m,\u001b[0m \u001b[0mRUR\u001b[0m\u001b[0;34m\u001b[0m\u001b[0;34m\u001b[0m\u001b[0m\n\u001b[0m\u001b[1;32m      9\u001b[0m \u001b[0;32mfrom\u001b[0m \u001b[0mtensortrade\u001b[0m\u001b[0;34m.\u001b[0m\u001b[0moms\u001b[0m\u001b[0;34m.\u001b[0m\u001b[0mwallets\u001b[0m \u001b[0;32mimport\u001b[0m \u001b[0mWallet\u001b[0m\u001b[0;34m,\u001b[0m \u001b[0mPortfolio\u001b[0m\u001b[0;34m\u001b[0m\u001b[0;34m\u001b[0m\u001b[0m\n\u001b[1;32m     10\u001b[0m \u001b[0;32mimport\u001b[0m \u001b[0mtensortrade\u001b[0m\u001b[0;34m.\u001b[0m\u001b[0menv\u001b[0m\u001b[0;34m.\u001b[0m\u001b[0mdefault\u001b[0m \u001b[0;32mas\u001b[0m \u001b[0mdefault\u001b[0m\u001b[0;34m\u001b[0m\u001b[0;34m\u001b[0m\u001b[0m\n",
            "\u001b[0;31mImportError\u001b[0m: cannot import name 'RUR' from 'tensortrade.oms.instruments' (/usr/local/lib/python3.7/dist-packages/tensortrade/oms/instruments/__init__.py)",
            "",
            "\u001b[0;31m---------------------------------------------------------------------------\u001b[0;32m\nNOTE: If your import is failing due to a missing package, you can\nmanually install dependencies using either !pip or !apt.\n\nTo view examples of installing some common dependencies, click the\n\"Open Examples\" button below.\n\u001b[0;31m---------------------------------------------------------------------------\u001b[0m\n"
          ]
        }
      ]
    },
    {
      "cell_type": "code",
      "metadata": {
        "id": "eIQ-MNpwGIPh"
      },
      "source": [
        ""
      ],
      "execution_count": null,
      "outputs": []
    }
  ]
}